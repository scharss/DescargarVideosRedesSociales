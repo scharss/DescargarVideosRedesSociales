{
  "nbformat": 4,
  "nbformat_minor": 0,
  "metadata": {
    "colab": {
      "provenance": []
    },
    "kernelspec": {
      "name": "python3",
      "display_name": "Python 3"
    },
    "language_info": {
      "name": "python"
    }
  },
  "cells": [
    {
      "cell_type": "code",
      "source": [
        "!pip install yt-dlp"
      ],
      "metadata": {
        "colab": {
          "base_uri": "https://localhost:8080/"
        },
        "id": "O9PgGoINAnbn",
        "outputId": "31498a8d-29da-46c6-af47-b7b338a4c968"
      },
      "execution_count": null,
      "outputs": [
        {
          "output_type": "stream",
          "name": "stdout",
          "text": [
            "Collecting yt-dlp\n",
            "  Downloading yt_dlp-2025.1.12-py3-none-any.whl.metadata (172 kB)\n",
            "\u001b[?25l     \u001b[90m━━━━━━━━━━━━━━━━━━━━━━━━━━━━━━━━━━━━━━━━\u001b[0m \u001b[32m0.0/172.1 kB\u001b[0m \u001b[31m?\u001b[0m eta \u001b[36m-:--:--\u001b[0m\r\u001b[2K     \u001b[90m━━━━━━━━━━━━━━━━━━━━━━━━━━━━━━━━━━━━━━━━\u001b[0m \u001b[32m172.1/172.1 kB\u001b[0m \u001b[31m6.3 MB/s\u001b[0m eta \u001b[36m0:00:00\u001b[0m\n",
            "\u001b[?25hDownloading yt_dlp-2025.1.12-py3-none-any.whl (3.2 MB)\n",
            "\u001b[2K   \u001b[90m━━━━━━━━━━━━━━━━━━━━━━━━━━━━━━━━━━━━━━━━\u001b[0m \u001b[32m3.2/3.2 MB\u001b[0m \u001b[31m30.2 MB/s\u001b[0m eta \u001b[36m0:00:00\u001b[0m\n",
            "\u001b[?25hInstalling collected packages: yt-dlp\n",
            "Successfully installed yt-dlp-2025.1.12\n"
          ]
        }
      ]
    },
    {
      "cell_type": "code",
      "source": [
        "# Importar la librería\n",
        "import yt_dlp\n",
        "\n",
        "def descargar_video(url):\n",
        "    try:\n",
        "        ydl_opts = {\n",
        "            'format': 'best',  # Descargar la mejor calidad disponible\n",
        "            'outtmpl': '/content/%(title)s.%(ext)s',  # Ruta de descarga (en el directorio de Colab)\n",
        "        }\n",
        "        with yt_dlp.YoutubeDL(ydl_opts) as ydl:\n",
        "            ydl.download([url])\n",
        "        print(\"Video descargado correctamente.\")\n",
        "    except Exception as e:\n",
        "        print(f\"Error al descargar el video: {e}\")\n",
        "\n",
        "# URL del video\n",
        "url_video = \"https://www.youtube.com/shorts/5mmK1d3u2SA\"\n",
        "descargar_video(url_video)"
      ],
      "metadata": {
        "colab": {
          "base_uri": "https://localhost:8080/"
        },
        "id": "9iuOrPG9AsY9",
        "outputId": "03d5e1c8-d4ef-4c82-c9c6-f48f1b75d1fe"
      },
      "execution_count": null,
      "outputs": [
        {
          "output_type": "stream",
          "name": "stdout",
          "text": [
            "[youtube] Extracting URL: https://www.youtube.com/shorts/5mmK1d3u2SA\n",
            "[youtube] 5mmK1d3u2SA: Downloading webpage\n",
            "[youtube] 5mmK1d3u2SA: Downloading ios player API JSON\n",
            "[youtube] 5mmK1d3u2SA: Downloading mweb player API JSON\n",
            "[youtube] 5mmK1d3u2SA: Downloading player 03dbdfab\n",
            "[youtube] 5mmK1d3u2SA: Downloading m3u8 information\n",
            "[info] 5mmK1d3u2SA: Downloading 1 format(s): 18\n",
            "[download] Destination: /content/This Comedian DID NOT Hold Back.mp4\n",
            "[download] 100% of    1.89MiB in 00:00:00 at 11.72MiB/s  \n",
            "Video descargado correctamente.\n"
          ]
        }
      ]
    },
    {
      "cell_type": "code",
      "source": [
        "!pip install yt-dlp"
      ],
      "metadata": {
        "colab": {
          "base_uri": "https://localhost:8080/"
        },
        "id": "04391LLuRd6P",
        "outputId": "ce93dc90-6233-452c-a589-86d17a2c50dc"
      },
      "execution_count": null,
      "outputs": [
        {
          "output_type": "stream",
          "name": "stdout",
          "text": [
            "Collecting yt-dlp\n",
            "  Downloading yt_dlp-2024.12.23-py3-none-any.whl.metadata (172 kB)\n",
            "\u001b[?25l     \u001b[90m━━━━━━━━━━━━━━━━━━━━━━━━━━━━━━━━━━━━━━━━\u001b[0m \u001b[32m0.0/172.1 kB\u001b[0m \u001b[31m?\u001b[0m eta \u001b[36m-:--:--\u001b[0m\r\u001b[2K     \u001b[91m━━━━━━━━━━━━━━━━━━━━━━━━━━━━━━━━━━━━━━\u001b[0m\u001b[90m╺\u001b[0m\u001b[90m━\u001b[0m \u001b[32m163.8/172.1 kB\u001b[0m \u001b[31m7.8 MB/s\u001b[0m eta \u001b[36m0:00:01\u001b[0m\r\u001b[2K     \u001b[90m━━━━━━━━━━━━━━━━━━━━━━━━━━━━━━━━━━━━━━━━\u001b[0m \u001b[32m172.1/172.1 kB\u001b[0m \u001b[31m2.7 MB/s\u001b[0m eta \u001b[36m0:00:00\u001b[0m\n",
            "\u001b[?25hDownloading yt_dlp-2024.12.23-py3-none-any.whl (3.2 MB)\n",
            "\u001b[2K   \u001b[90m━━━━━━━━━━━━━━━━━━━━━━━━━━━━━━━━━━━━━━━━\u001b[0m \u001b[32m3.2/3.2 MB\u001b[0m \u001b[31m12.5 MB/s\u001b[0m eta \u001b[36m0:00:00\u001b[0m\n",
            "\u001b[?25hInstalling collected packages: yt-dlp\n",
            "Successfully installed yt-dlp-2024.12.23\n"
          ]
        }
      ]
    },
    {
      "cell_type": "code",
      "source": [
        "# Importar la librería\n",
        "import yt_dlp\n",
        "\n",
        "def descargar_video_facebook(url):\n",
        "    try:\n",
        "        ydl_opts = {\n",
        "            'format': 'best',  # Descargar la mejor calidad disponible\n",
        "            'outtmpl': '/content/%(title)s.%(ext)s',  # Ruta de descarga (en el directorio de Colab)\n",
        "        }\n",
        "        with yt_dlp.YoutubeDL(ydl_opts) as ydl:\n",
        "            ydl.download([url])\n",
        "        print(\"Video descargado correctamente.\")\n",
        "    except Exception as e:\n",
        "        print(f\"Error al descargar el video: {e}\")\n",
        "\n",
        "# URL del video de Facebook\n",
        "url_facebook = \"https://www.facebook.com/share/r/1BbvQ5gJQ2/?mibextid=rS40aB7S9Ucbxw6v\"\n",
        "descargar_video_facebook(url_facebook)"
      ],
      "metadata": {
        "colab": {
          "base_uri": "https://localhost:8080/"
        },
        "id": "02n6L8O8Rlbo",
        "outputId": "9d6f28b8-7b51-4d2c-a17d-42708e2daa9c"
      },
      "execution_count": null,
      "outputs": [
        {
          "output_type": "stream",
          "name": "stdout",
          "text": [
            "[generic] Extracting URL: https://www.facebook.com/share/r/1BbvQ5gJQ2/?mibextid=rS40aB7S9Ucbxw6v\n",
            "[generic] ?mibextid=rS40aB7S9Ucbxw6v: Downloading webpage\n",
            "[redirect] Following redirect to https://www.facebook.com/reel/1285169589477850/?mibextid=rS40aB7S9Ucbxw6v&rdid=ZvOmp9a0wmFb1NTu&share_url=https%3A%2F%2Fwww.facebook.com%2Fshare%2Fr%2F1BbvQ5gJQ2%2F%3Fmibextid%3DrS40aB7S9Ucbxw6v\n",
            "[facebook:reel] Extracting URL: https://www.facebook.com/reel/1285169589477850/?mibextid=rS40aB7S9Ucbxw6v&rdid=ZvOmp9a0wmFb1NTu&s...d%3DrS40aB7S9Ucbxw6v\n",
            "[facebook] Extracting URL: https://m.facebook.com/watch/?v=1285169589477850&_rdr\n",
            "[facebook] 1285169589477850: Downloading webpage\n",
            "[info] 1285169589477850: Downloading 1 format(s): hd\n",
            "[download] Destination: /content/2.7M views · 20K reactions ｜ S-401 Air Defense Targeted FPV Drone! Ep 19 -RELL ｜ Fixture gaming.mp4\n",
            "[download] 100% of    1.57MiB in 00:00:00 at 8.94MiB/s   \n",
            "Video descargado correctamente.\n"
          ]
        }
      ]
    },
    {
      "cell_type": "code",
      "source": [
        "!pip install yt-dlp"
      ],
      "metadata": {
        "id": "i9SgS9iTTXIV",
        "outputId": "039b2807-4e45-4a40-9c4f-3aa7909dc9e4",
        "colab": {
          "base_uri": "https://localhost:8080/"
        }
      },
      "execution_count": null,
      "outputs": [
        {
          "output_type": "stream",
          "name": "stdout",
          "text": [
            "Requirement already satisfied: yt-dlp in /usr/local/lib/python3.10/dist-packages (2024.12.6)\n"
          ]
        }
      ]
    },
    {
      "cell_type": "code",
      "source": [
        "# Importar la librería\n",
        "import yt_dlp\n",
        "\n",
        "def descargar_video_instagram(url):\n",
        "    try:\n",
        "        ydl_opts = {\n",
        "            'format': 'best',  # Descargar la mejor calidad disponible\n",
        "            'outtmpl': '/content/%(title)s.%(ext)s',  # Ruta de descarga (en el directorio de Colab)\n",
        "        }\n",
        "        with yt_dlp.YoutubeDL(ydl_opts) as ydl:\n",
        "            ydl.download([url])\n",
        "        print(\"Video descargado correctamente.\")\n",
        "    except Exception as e:\n",
        "        print(f\"Error al descargar el video: {e}\")\n",
        "\n",
        "# URL del video de Instagram\n",
        "url_instagram = \"https://www.instagram.com/reel/DD4vaQwp_4d/\"\n",
        "descargar_video_instagram(url_instagram)"
      ],
      "metadata": {
        "id": "smTpHYYeTZDu",
        "outputId": "6d2b53a0-418f-4bd5-d068-7a17798a9002",
        "colab": {
          "base_uri": "https://localhost:8080/"
        }
      },
      "execution_count": null,
      "outputs": [
        {
          "output_type": "stream",
          "name": "stdout",
          "text": [
            "[Instagram] Extracting URL: https://www.instagram.com/reel/DD4vaQwp_4d/\n",
            "[Instagram] DD4vaQwp_4d: Setting up session\n",
            "[Instagram] DD4vaQwp_4d: Downloading JSON metadata\n",
            "[info] DD4vaQwp_4d: Downloading 1 format(s): 3\n",
            "[download] Destination: /content/Video by scharssazaeltechlab.mp4\n",
            "[download] 100% of    2.51MiB in 00:00:00 at 4.71MiB/s   \n",
            "Video descargado correctamente.\n"
          ]
        }
      ]
    }
  ]
}